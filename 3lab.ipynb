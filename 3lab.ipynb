{
  "nbformat": 4,
  "nbformat_minor": 0,
  "metadata": {
    "colab": {
      "provenance": []
    },
    "kernelspec": {
      "name": "python3",
      "display_name": "Python 3"
    },
    "language_info": {
      "name": "python"
    }
  },
  "cells": [
    {
      "cell_type": "code",
      "execution_count": 18,
      "metadata": {
        "id": "9CDb_aW6QozK"
      },
      "outputs": [],
      "source": [
        "import random\n",
        "import math\n",
        "VARIANCE_W = 0.5\n",
        "w11 = random.uniform(-VARIANCE_W,VARIANCE_W)\n",
        "w21 = random.uniform(-VARIANCE_W,VARIANCE_W)\n",
        "b1 = 0\n",
        "w12 = random.uniform(-VARIANCE_W,VARIANCE_W)\n",
        "w22 = random.uniform(-VARIANCE_W,VARIANCE_W)\n",
        "b2 = 0\n",
        "w13 = random.uniform(-VARIANCE_W,VARIANCE_W)\n",
        "w23 = random.uniform(-VARIANCE_W,VARIANCE_W)\n",
        "b3 = 0\n",
        "o1 = random.uniform(-VARIANCE_W,VARIANCE_W)\n",
        "o2 = random.uniform(-VARIANCE_W,VARIANCE_W)\n",
        "o3 = random.uniform(-VARIANCE_W,VARIANCE_W)\n",
        "ob = 0"
      ]
    },
    {
      "cell_type": "code",
      "source": [
        "def sigmoid(x):\n",
        "  return 1.0 / (1.0 + math.exp(-x))"
      ],
      "metadata": {
        "id": "Z-_d6TPLS5DF"
      },
      "execution_count": 19,
      "outputs": []
    },
    {
      "cell_type": "code",
      "source": [
        "def sigmoid_prime(x): # x already sigmoided\n",
        "  return x * (1 - x)"
      ],
      "metadata": {
        "id": "ghCQMBOKTETR"
      },
      "execution_count": 20,
      "outputs": []
    },
    {
      "cell_type": "code",
      "source": [
        "def predict(i1,i2):\n",
        "  s1 = w11 * i1 + w21 * i2 + b1\n",
        "  s1 = sigmoid(s1)\n",
        "  s2 = w12 * i1 + w22 * i2 + b2\n",
        "  s2 = sigmoid(s2)\n",
        "  s3 = w13 * i1 + w23 * i2 + b3\n",
        "  s3 = sigmoid(s3)\n",
        "  output = s1 * o1 + s2 * o2 + s3 * o3 + ob\n",
        "  output = sigmoid(output)\n",
        "  return output"
      ],
      "metadata": {
        "id": "LFfhK7CdTIpK"
      },
      "execution_count": 21,
      "outputs": []
    },
    {
      "cell_type": "code",
      "source": [
        "def learn(i1,i2,target, alpha=0.2):\n",
        "  global w11,w21,b1,w12,w22,b2,w13,w23,b3\n",
        "  global o1,o2,o3,ob\n",
        "  s1 = w11 * i1 + w21 * i2 + b1\n",
        "  s1 = sigmoid(s1)\n",
        "  s2 = w12 * i1 + w22 * i2 + b2\n",
        "  s2 = sigmoid(s2)\n",
        "  s3 = w13 * i1 + w23 * i2 + b3\n",
        "  s3 = sigmoid(s3)\n",
        "  output = s1 * o1 + s2 * o2 + s3 * o3 + ob\n",
        "  output = sigmoid(output)\n",
        "  error = target - output\n",
        "  derror = error * sigmoid_prime(output)\n",
        "  ds1 = derror * o1 * sigmoid_prime(s1)\n",
        "  ds2 = derror * o2 * sigmoid_prime(s2)\n",
        "  ds3 = derror * o3 * sigmoid_prime(s3)\n",
        "  o1 += alpha * s1 * derror\n",
        "  o2 += alpha * s2 * derror\n",
        "  o3 += alpha * s3 * derror\n",
        "  ob += alpha * derror\n",
        "  w11 += alpha * i1 * ds1\n",
        "  w21 += alpha * i2 * ds1\n",
        "  b1 += alpha * ds1\n",
        "  w12 += alpha * i1 * ds2\n",
        "  w22 += alpha * i2 * ds2\n",
        "  b2 += alpha * ds2\n",
        "  w13 += alpha * i1 * ds3\n",
        "  w23 += alpha * i2 * ds3\n",
        "  b3 += alpha * ds3\n",
        "INPUTS = [[0,0],[0,1],[1,0],[1,1]]\n",
        "OUTPUTS = [[0],[1],[1],[0]]\n",
        "for epoch in range(1,10001):\n",
        "  indexes = [0,1,2,3]\n",
        "  random.shuffle(indexes)\n",
        "  for j in indexes:\n",
        "    learn(INPUTS[j][0],INPUTS[j][1],OUTPUTS[j][0], alpha=0.2)\n",
        "  if epoch%1000 == 0:\n",
        "      cost = 0\n",
        "      for j in range(4):\n",
        "        o = predict(INPUTS[j][0],INPUTS[j][1])\n",
        "        cost += (OUTPUTS[j][0] - o) ** 2\n",
        "      cost /= 4\n",
        "      print(\"epoch\", epoch, \"mean squared error:\", cost)"
      ],
      "metadata": {
        "colab": {
          "base_uri": "https://localhost:8080/"
        },
        "id": "zb3Z9jGyTOI0",
        "outputId": "fd1383de-4226-4829-80e7-91b18f4ad177"
      },
      "execution_count": 29,
      "outputs": [
        {
          "output_type": "stream",
          "name": "stdout",
          "text": [
            "epoch 1000 mean squared error: 0.24901612342868157\n",
            "epoch 2000 mean squared error: 0.193247816183574\n",
            "epoch 3000 mean squared error: 0.05752360783901339\n",
            "epoch 4000 mean squared error: 0.010048886637281117\n",
            "epoch 5000 mean squared error: 0.00452123256845991\n",
            "epoch 6000 mean squared error: 0.0027954453869815975\n",
            "epoch 7000 mean squared error: 0.0019901722601674433\n",
            "epoch 8000 mean squared error: 0.001532254579369772\n",
            "epoch 9000 mean squared error: 0.0012395446369053618\n",
            "epoch 10000 mean squared error: 0.0010374268613312354\n"
          ]
        }
      ]
    },
    {
      "cell_type": "code",
      "source": [
        "for i in range(4):\n",
        "  result = predict(INPUTS[i][0],INPUTS[i][1])\n",
        "  print(\"for input\", INPUTS[i], \"expected\", OUTPUTS[i][0], \"predicted\", f\"{result:4.4}\", \"which is\", \"correct\" if\n",
        "  round(result)==OUTPUTS[i][0] else \"incorrect\")"
      ],
      "metadata": {
        "colab": {
          "base_uri": "https://localhost:8080/"
        },
        "id": "FdHjecBYTeO8",
        "outputId": "9c816920-4b87-4c09-ce36-90c8fb1e6519"
      },
      "execution_count": 31,
      "outputs": [
        {
          "output_type": "stream",
          "name": "stdout",
          "text": [
            "for input [0, 0] expected 0 predicted 0.02893 which is correct\n",
            "for input [0, 1] expected 1 predicted 0.97 which is correct\n",
            "for input [1, 0] expected 1 predicted 0.9694 which is correct\n",
            "for input [1, 1] expected 0 predicted 0.0384 which is correct\n"
          ]
        }
      ]
    }
  ]
}